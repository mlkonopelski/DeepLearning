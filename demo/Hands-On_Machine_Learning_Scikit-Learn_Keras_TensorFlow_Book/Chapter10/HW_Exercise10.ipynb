{
 "cells": [
  {
   "cell_type": "code",
   "execution_count": 62,
   "metadata": {},
   "outputs": [],
   "source": [
    "from tensorflow import keras\n",
    "import numpy as np\n",
    "from sklearn.model_selection import train_test_split"
   ]
  },
  {
   "cell_type": "code",
   "execution_count": 3,
   "metadata": {},
   "outputs": [],
   "source": [
    "data = keras.datasets.mnist.load_data()"
   ]
  },
  {
   "cell_type": "code",
   "execution_count": 68,
   "metadata": {},
   "outputs": [],
   "source": [
    "X_train, X_val, y_train, y_val = train_test_split(data[0][0], data[0][1])\n",
    "X_test, y_test = data[1][0], data[1][1]"
   ]
  },
  {
   "cell_type": "code",
   "execution_count": 69,
   "metadata": {},
   "outputs": [],
   "source": [
    "model = keras.models.Sequential([\n",
    "        keras.layers.Flatten(input_shape=[28,28]),\n",
    "        keras.layers.Dense(units=100, activation=keras.activations.relu),\n",
    "        keras.layers.Dense(units=10, activation=keras.activations.softmax)])"
   ]
  },
  {
   "cell_type": "code",
   "execution_count": 70,
   "metadata": {},
   "outputs": [],
   "source": [
    "model.compile(optimizer=keras.optimizers.Adam(learning_rate=0.001),\n",
    "              loss=keras.losses.sparse_categorical_crossentropy,\n",
    "              metrics=[keras.metrics.sparse_categorical_accuracy])"
   ]
  },
  {
   "cell_type": "code",
   "execution_count": 71,
   "metadata": {},
   "outputs": [
    {
     "name": "stdout",
     "output_type": "stream",
     "text": [
      "1407/1407 [==============================] - 3s 2ms/step - loss: 3.2373 - sparse_categorical_accuracy: 0.8299\n"
     ]
    },
    {
     "data": {
      "text/plain": [
       "<tensorflow.python.keras.callbacks.History at 0x16f26db6d88>"
      ]
     },
     "execution_count": 71,
     "metadata": {},
     "output_type": "execute_result"
    }
   ],
   "source": [
    "model.fit(X_train, y_train)"
   ]
  },
  {
   "cell_type": "code",
   "execution_count": 72,
   "metadata": {},
   "outputs": [
    {
     "name": "stdout",
     "output_type": "stream",
     "text": [
      "469/469 [==============================] - 1s 1ms/step - loss: 0.6573 - sparse_categorical_accuracy: 0.8629\n"
     ]
    },
    {
     "data": {
      "text/plain": [
       "0.6572951674461365"
      ]
     },
     "execution_count": 72,
     "metadata": {},
     "output_type": "execute_result"
    }
   ],
   "source": [
    "model.evaluate(X_val, y_val)[0]"
   ]
  },
  {
   "cell_type": "code",
   "execution_count": 74,
   "metadata": {},
   "outputs": [],
   "source": [
    "def train_test_model(lr_choice):\n",
    "    \n",
    "    model = keras.models.Sequential([\n",
    "            keras.layers.Flatten(input_shape=[28,28]),\n",
    "            keras.layers.Dense(units=100, activation=keras.activations.relu),\n",
    "            keras.layers.Dense(units=10, activation=keras.activations.softmax)])\n",
    "    \n",
    "    model.compile(optimizer=keras.optimizers.Adam(learning_rate=lr_choice),\n",
    "                  loss=keras.losses.sparse_categorical_crossentropy,\n",
    "                  metrics=[keras.metrics.sparse_categorical_accuracy])\n",
    "    \n",
    "    model.fit(X_train, y_train)\n",
    "    \n",
    "    return model.evaluate(X_val, y_val)[0]"
   ]
  },
  {
   "cell_type": "code",
   "execution_count": 83,
   "metadata": {},
   "outputs": [],
   "source": [
    "lr_input = [0.0000001, 0.000001,0.00001, 0.0001, 0.001, 0.01, 0.1, 1, 10, 100]"
   ]
  },
  {
   "cell_type": "code",
   "execution_count": 81,
   "metadata": {},
   "outputs": [],
   "source": [
    "loss_results = []"
   ]
  },
  {
   "cell_type": "code",
   "execution_count": 84,
   "metadata": {},
   "outputs": [
    {
     "name": "stdout",
     "output_type": "stream",
     "text": [
      "1407/1407 [==============================] - 3s 2ms/step - loss: 2.7910 - sparse_categorical_accuracy: 0.8130\n",
      "469/469 [==============================] - 1s 1ms/step - loss: 0.6107 - sparse_categorical_accuracy: 0.8619\n",
      "1407/1407 [==============================] - 3s 2ms/step - loss: 2.5627 - sparse_categorical_accuracy: 0.8109\n",
      "469/469 [==============================] - 1s 1ms/step - loss: 0.6670 - sparse_categorical_accuracy: 0.8427\n",
      "1407/1407 [==============================] - 3s 2ms/step - loss: 2.7835 - sparse_categorical_accuracy: 0.8292\n",
      "469/469 [==============================] - 1s 1ms/step - loss: 0.5544 - sparse_categorical_accuracy: 0.8641\n",
      "1407/1407 [==============================] - 3s 2ms/step - loss: 3.1877 - sparse_categorical_accuracy: 0.8359\n",
      "469/469 [==============================] - 1s 2ms/step - loss: 0.6936 - sparse_categorical_accuracy: 0.8537\n",
      "   1/1407 [..............................] - ETA: 0s - loss: 155.2522 - sparse_categorical_accuracy: 0.0938WARNING:tensorflow:Callbacks method `on_train_batch_end` is slow compared to the batch time (batch time: 0.0000s vs `on_train_batch_end` time: 0.0040s). Check your callbacks.\n",
      "1407/1407 [==============================] - 3s 2ms/step - loss: 2.8772 - sparse_categorical_accuracy: 0.8312\n",
      "469/469 [==============================] - 1s 1ms/step - loss: 0.5573 - sparse_categorical_accuracy: 0.8765\n",
      "1407/1407 [==============================] - 3s 2ms/step - loss: 2.9049 - sparse_categorical_accuracy: 0.8260\n",
      "469/469 [==============================] - 1s 1ms/step - loss: 0.6578 - sparse_categorical_accuracy: 0.8451\n",
      "1407/1407 [==============================] - 3s 2ms/step - loss: 2.9696 - sparse_categorical_accuracy: 0.8396\n",
      "469/469 [==============================] - 1s 1ms/step - loss: 0.6576 - sparse_categorical_accuracy: 0.8554\n",
      "1407/1407 [==============================] - 3s 2ms/step - loss: 3.0621 - sparse_categorical_accuracy: 0.8234\n",
      "  1/469 [..............................] - ETA: 0s - loss: 0.1520 - sparse_categorical_accuracy: 1.0000WARNING:tensorflow:Callbacks method `on_test_batch_end` is slow compared to the batch time (batch time: 0.0000s vs `on_test_batch_end` time: 0.0040s). Check your callbacks.\n",
      "469/469 [==============================] - 1s 1ms/step - loss: 0.6159 - sparse_categorical_accuracy: 0.8685\n",
      "1407/1407 [==============================] - 3s 2ms/step - loss: 2.9028 - sparse_categorical_accuracy: 0.7994\n",
      "469/469 [==============================] - 1s 3ms/step - loss: 0.6506 - sparse_categorical_accuracy: 0.8433\n",
      "1407/1407 [==============================] - 3s 2ms/step - loss: 3.3136 - sparse_categorical_accuracy: 0.8377\n",
      "469/469 [==============================] - 1s 2ms/step - loss: 0.5763 - sparse_categorical_accuracy: 0.8762\n"
     ]
    }
   ],
   "source": [
    "for lr in lr_input:\n",
    "    loss_results.append(train_test_model(lr))"
   ]
  },
  {
   "cell_type": "code",
   "execution_count": null,
   "metadata": {},
   "outputs": [],
   "source": []
  }
 ],
 "metadata": {
  "kernelspec": {
   "display_name": "Python 3",
   "language": "python",
   "name": "python3"
  },
  "language_info": {
   "codemirror_mode": {
    "name": "ipython",
    "version": 3
   },
   "file_extension": ".py",
   "mimetype": "text/x-python",
   "name": "python",
   "nbconvert_exporter": "python",
   "pygments_lexer": "ipython3",
   "version": "3.7.7"
  }
 },
 "nbformat": 4,
 "nbformat_minor": 4
}
