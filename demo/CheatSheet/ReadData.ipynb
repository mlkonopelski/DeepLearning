{
  "nbformat": 4,
  "nbformat_minor": 0,
  "metadata": {
    "colab": {
      "name": "ReadData.ipynb",
      "provenance": [],
      "collapsed_sections": [
        "bJmX9GSwDWeU"
      ],
      "toc_visible": true
    },
    "kernelspec": {
      "name": "python3",
      "display_name": "Python 3"
    }
  },
  "cells": [
    {
      "cell_type": "markdown",
      "metadata": {
        "id": "muKkdMeK6h0N"
      },
      "source": [
        "# Environment"
      ]
    },
    {
      "cell_type": "code",
      "metadata": {
        "id": "YTIQFP8u46sg"
      },
      "source": [
        "import pandas as pd\n",
        "import numpy as np\n",
        "import tensorflow as tf\n",
        "from tensorflow import keras\n",
        "import matplotlib.pyplot as plt"
      ],
      "execution_count": 1,
      "outputs": []
    },
    {
      "cell_type": "markdown",
      "metadata": {
        "id": "7Fh2IoGSDhYu"
      },
      "source": [
        "## Utility Functions"
      ]
    },
    {
      "cell_type": "code",
      "metadata": {
        "id": "Y9Oa7bNj9r5i"
      },
      "source": [
        "def print_model_history(history, metric, val=True):\n",
        "  # summarize history for accuracy\n",
        "  plt.plot(history.history[metric])\n",
        "  if val:\n",
        "    plt.plot(history.history['val_{}'.format(metric)])\n",
        "    plt.legend(['train', 'test'], loc='upper left')\n",
        "  else:\n",
        "    plt.legend(['train'], loc='upper left')\n",
        "  plt.title('model rmse error')\n",
        "  plt.ylabel('rmse')\n",
        "  plt.xlabel('epoch')\n",
        "  plt.show()\n",
        "\n",
        "  # summarize history for loss\n",
        "  plt.plot(history.history['loss'])\n",
        "  if val:\n",
        "    plt.plot(history.history['val_loss'])\n",
        "    plt.legend(['train', 'test'], loc='upper left')\n",
        "  else:\n",
        "    plt.legend(['train'], loc='upper left')\n",
        "  plt.title('model loss')\n",
        "  plt.ylabel('loss')\n",
        "  plt.xlabel('epoch')\n",
        "  \n",
        "  plt.show()"
      ],
      "execution_count": 72,
      "outputs": []
    },
    {
      "cell_type": "code",
      "metadata": {
        "id": "LBShg4K69MG7"
      },
      "source": [
        "def build_model_and_train(dataset=None, X=None, y=None, epochs=100):\n",
        "\n",
        "  model = keras.models.Sequential([\n",
        "                                  keras.layers.Dense(10),\n",
        "                                  keras.layers.Dense(10),\n",
        "                                  keras.layers.Dense(1)\n",
        "  ])\n",
        "\n",
        "  m = keras.metrics.RootMeanSquaredError()\n",
        "\n",
        "  model.compile(optimizer='adam', loss='mean_squared_error', metrics=m)\n",
        "\n",
        "  if dataset != None:\n",
        "    history = model.fit(dataset, epochs=epochs, verbose=0, use_multiprocessing=True)\n",
        "    print_model_history(history, metric='root_mean_squared_error', val=False)\n",
        "    #return history \n",
        "\n",
        "  else:\n",
        "    history = model.fit(X, y, epochs=epochs, verbose=0, validation_split=0.1, use_multiprocessing=True)\n",
        "    print_model_history(history, metric='root_mean_squared_error')"
      ],
      "execution_count": 70,
      "outputs": []
    },
    {
      "cell_type": "markdown",
      "metadata": {
        "id": "_v2X1p0A48tG"
      },
      "source": [
        "# Read Data from files\n"
      ]
    },
    {
      "cell_type": "markdown",
      "metadata": {
        "id": "vxyjdLmX6yxx"
      },
      "source": [
        "## Prepare files"
      ]
    },
    {
      "cell_type": "code",
      "metadata": {
        "id": "9_gQ-zlb65RQ"
      },
      "source": [
        "file_path = '/content/sample_data/california_housing_train'\n",
        "file_path_list = []\n",
        "\n",
        "data = pd.read_csv(file_path + '.csv')\n",
        "\n",
        "for i in range(10):\n",
        "  file_path_temp = file_path + '_' +str(i) + '.csv'\n",
        "  data.sample(1700).to_csv(file_path_temp, sep=',', index=False)\n",
        "  file_path_list.append(file_path_temp)"
      ],
      "execution_count": 2,
      "outputs": []
    },
    {
      "cell_type": "markdown",
      "metadata": {
        "id": "niKHbWvr6yli"
      },
      "source": [
        "## Read files"
      ]
    },
    {
      "cell_type": "code",
      "metadata": {
        "id": "n3HQN0XD7ZV-"
      },
      "source": [
        "n_readers = 5 # how many files read at the same time\n",
        "features = 8\n",
        "repeat = True \n",
        "n_repeat = 10\n",
        "cache = True\n",
        "shuffle = True\n",
        "shuffe_buffor = 10000\n",
        "batch = True\n",
        "batch_size = 32\n",
        "prefetch = True"
      ],
      "execution_count": 50,
      "outputs": []
    },
    {
      "cell_type": "code",
      "metadata": {
        "id": "t13GuUmJ7CKl"
      },
      "source": [
        "file_path_list_tf = tf.data.Dataset.list_files(file_path_list)"
      ],
      "execution_count": 51,
      "outputs": []
    },
    {
      "cell_type": "code",
      "metadata": {
        "id": "e358dq607HQQ"
      },
      "source": [
        "dataset = file_path_list_tf.interleave(\n",
        "      lambda filepath: tf.data.TextLineDataset(filepath).skip(1),\n",
        "      cycle_length=n_readers, num_parallel_calls=tf.data.experimental.AUTOTUNE\n",
        "  )"
      ],
      "execution_count": 52,
      "outputs": []
    },
    {
      "cell_type": "code",
      "metadata": {
        "id": "P_jO5tKZ-Irw"
      },
      "source": [
        "def string_to_vector(line):\n",
        "  defs = [0.] * features + [tf.constant([], dtype=tf.float32)]\n",
        "  fields = tf.io.decode_csv(line, record_defaults=defs)\n",
        "  x = tf.stack(fields[:-1])\n",
        "  y = tf.stack(fields[-1:])\n",
        "  return x, y"
      ],
      "execution_count": 53,
      "outputs": []
    },
    {
      "cell_type": "code",
      "metadata": {
        "id": "qAB7WYMm-MYE"
      },
      "source": [
        "dataset = dataset.map(string_to_vector,  num_parallel_calls=tf.data.experimental.AUTOTUNE)"
      ],
      "execution_count": 54,
      "outputs": []
    },
    {
      "cell_type": "code",
      "metadata": {
        "id": "bMmJBU1S7ILq"
      },
      "source": [
        "if repeat:\n",
        "  dataset = dataset.repeat(n_repeat)\n",
        "\n",
        "if cache:\n",
        "  dataset = dataset.cache()\n",
        "\n",
        "if shuffle:\n",
        "  dataset = dataset.shuffle(buffer_size=shuffe_buffor)\n",
        "\n",
        "if batch:\n",
        "  dataset = dataset.batch(batch_size=batch_size, drop_remainder=True)\n",
        "\n",
        "if prefetch:\n",
        "  dataset = dataset.prefetch(1)"
      ],
      "execution_count": 55,
      "outputs": []
    },
    {
      "cell_type": "markdown",
      "metadata": {
        "id": "HlzT_o6t9Eus"
      },
      "source": [
        "## Test on model"
      ]
    },
    {
      "cell_type": "code",
      "metadata": {
        "colab": {
          "base_uri": "https://localhost:8080/",
          "height": 573
        },
        "id": "enMZ0rsD7Iee",
        "outputId": "78e924fd-f9a3-42a5-8fe0-363d14a9c8b6"
      },
      "source": [
        "build_model_and_train(dataset, epochs=100)"
      ],
      "execution_count": 73,
      "outputs": [
        {
          "output_type": "display_data",
          "data": {
            "image/png": "[encoded data removed]",
            "text/plain": [
              "<Figure size 432x288 with 1 Axes>"
            ]
          },
          "metadata": {
            "tags": [],
            "needs_background": "light"
          }
        },
        {
          "output_type": "display_data",
          "data": {
            "image/png": "[encoded data removed]",
            "text/plain": [
              "<Figure size 432x288 with 1 Axes>"
            ]
          },
          "metadata": {
            "tags": [],
            "needs_background": "light"
          }
        }
      ]
    },
    {
      "cell_type": "markdown",
      "metadata": {
        "id": "Pm4o06L549JW"
      },
      "source": [
        "# Read Data from TFDS"
      ]
    },
    {
      "cell_type": "code",
      "metadata": {
        "id": "KBDHEL7-0ENe"
      },
      "source": [
        "!pip install tensorflow-datasets==3.2.1"
      ],
      "execution_count": null,
      "outputs": []
    },
    {
      "cell_type": "code",
      "metadata": {
        "id": "wC-vWZC4z2x9"
      },
      "source": [
        "import tensorflow_datasets as tfds\n",
        "tfds.__version__"
      ],
      "execution_count": 124,
      "outputs": []
    },
    {
      "cell_type": "markdown",
      "metadata": {
        "id": "VXdjESFN49Tj"
      },
      "source": [
        "# Read Data from sklearn dataset\n",
        "\n",
        "\n",
        "load_boston(*[, return_X_y]) - Load and return the boston house-prices dataset (regression).\n",
        "\n",
        "load_iris(*[, return_X_y, as_frame]) - Load and return the iris dataset (classification).\n",
        "\n",
        "load_diabetes(*[, return_X_y, as_frame]) - Load and return the diabetes dataset (regression).\n",
        "\n",
        "load_digits(*[, n_class, return_X_y, as_frame]) - Load and return the digits dataset (classification).\n",
        "\n",
        "load_linnerud(*[, return_X_y, as_frame]) - Load and return the physical excercise linnerud dataset.\n",
        "\n",
        "load_wine(*[, return_X_y, as_frame]) - Load and return the wine dataset (classification).\n",
        "\n",
        "load_breast_cancer(*[, return_X_y, as_frame]) - Load and return the breast cancer wisconsin dataset (classification)."
      ]
    },
    {
      "cell_type": "code",
      "metadata": {
        "id": "k01yFUgFyPSV"
      },
      "source": [
        "from sklearn import datasets\n",
        "from sklearn.model_selection import train_test_split"
      ],
      "execution_count": 36,
      "outputs": []
    },
    {
      "cell_type": "code",
      "metadata": {
        "id": "aDd2LeqdyPBd"
      },
      "source": [
        "data = datasets.load_iris(return_X_y=True)\n",
        "X, y = data[1], data[0]\n",
        "X_train, X_test, y_train, y_test = train_test_split(X, y, test_size=0.33, random_state=42)"
      ],
      "execution_count": 37,
      "outputs": []
    },
    {
      "cell_type": "code",
      "metadata": {
        "id": "1SeUWGP8yNt4"
      },
      "source": [
        "train_dataset = tf.data.Dataset.from_tensor_slices((X_train, y_train))\n",
        "test_dataset = tf.data.Dataset.from_tensor_slices((X_test, y_test))"
      ],
      "execution_count": 38,
      "outputs": []
    },
    {
      "cell_type": "markdown",
      "metadata": {
        "id": "bJmX9GSwDWeU"
      },
      "source": [
        "# Read Data from pictures"
      ]
    },
    {
      "cell_type": "markdown",
      "metadata": {
        "id": "MF069XIGsVbI"
      },
      "source": [
        "# Read Data from CSV"
      ]
    },
    {
      "cell_type": "markdown",
      "metadata": {
        "id": "lROK3ynOsbxr"
      },
      "source": [
        "## Read through numpy to memory \n",
        "\n",
        "Better for small sets and with only numerical features"
      ]
    },
    {
      "cell_type": "code",
      "metadata": {
        "id": "qCsSw1ZBvXRd"
      },
      "source": [
        "train = pd.read_csv('/content/sample_data/california_housing_train.csv')\n",
        "test =  pd.read_csv('/content/sample_data/california_housing_test.csv')\n",
        "\n",
        "X_train, y_train = train.drop(columns=['median_house_value']).to_numpy(), train['median_house_value'].to_numpy()\n",
        "X_test, y_test = test.drop(columns=['median_house_value']).to_numpy(), test['median_house_value'].to_numpy()"
      ],
      "execution_count": 111,
      "outputs": []
    },
    {
      "cell_type": "code",
      "metadata": {
        "id": "fMf0uAIlvzrp"
      },
      "source": [
        "train_dataset = tf.data.Dataset.from_tensor_slices((X_train, y_train))\n",
        "test_dataset = tf.data.Dataset.from_tensor_slices((X_test, y_test))"
      ],
      "execution_count": 113,
      "outputs": []
    },
    {
      "cell_type": "markdown",
      "metadata": {
        "id": "WvQ_WIgFsb5c"
      },
      "source": [
        "## Read with data api\n",
        "\n",
        "Better for big sets but data is kept in column format - harden to process"
      ]
    },
    {
      "cell_type": "code",
      "metadata": {
        "id": "xHNwoYOXtDua"
      },
      "source": [
        "housing_csv_ds = tf.data.experimental.make_csv_dataset(\n",
        "    '/content/sample_data/california_housing_train.csv',\n",
        "    batch_size=25,\n",
        "    label_name='median_house_value',\n",
        "    num_epochs=1,\n",
        "    ignore_errors=True,)"
      ],
      "execution_count": 102,
      "outputs": []
    },
    {
      "cell_type": "markdown",
      "metadata": {
        "id": "ZCw2HrRhIPyQ"
      },
      "source": [
        "# Read data from Web"
      ]
    },
    {
      "cell_type": "code",
      "metadata": {
        "id": "b3Xr6aMRDV11"
      },
      "source": [
        "import os \n",
        "import tarfile\n",
        "from six.moves import urllib"
      ],
      "execution_count": 83,
      "outputs": []
    },
    {
      "cell_type": "markdown",
      "metadata": {
        "id": "eyPjpgQbNHt7"
      },
      "source": [
        "### Read TGZ Data from Web"
      ]
    },
    {
      "cell_type": "code",
      "metadata": {
        "id": "Jq_AodU9IZBO"
      },
      "source": [
        "DOWNLOAD_ROOT = \"https://raw.githubusercontent.com/ageron/handson-ml/master/\"\n",
        "HOUSING_PATH = '/content/sample_data/housing'\n",
        "HOUSING_URL = DOWNLOAD_ROOT + \"datasets/housing/housing.tgz\"\n",
        "\n",
        "def fetch_housing_data(housing_url=HOUSING_URL, housing_path=HOUSING_PATH):\n",
        "    if not os.path.isdir(housing_path):\n",
        "        os.makedirs(housing_path)\n",
        "    tgz_path = os.path.join(housing_path, \"housing.tgz\")\n",
        "    urllib.request.urlretrieve(housing_url, tgz_path)\n",
        "    housing_tgz = tarfile.open(tgz_path)\n",
        "    housing_tgz.extractall(path=housing_path)\n",
        "    housing_tgz.close()\n",
        "\n",
        "fetch_housing_data()"
      ],
      "execution_count": 84,
      "outputs": []
    },
    {
      "cell_type": "markdown",
      "metadata": {
        "id": "lTPTdc55N3zI"
      },
      "source": [
        "### Read CSV data from Web"
      ]
    },
    {
      "cell_type": "code",
      "metadata": {
        "colab": {
          "base_uri": "https://localhost:8080/"
        },
        "id": "26aimVKtNSi6",
        "outputId": "c7e3173b-3ce4-43f3-a3f8-772282f0c20b"
      },
      "source": [
        "housing_file_path = tf.keras.utils.get_file(\"housing.csv\", DOWNLOAD_ROOT + 'datasets/housing/housing.csv')"
      ],
      "execution_count": 86,
      "outputs": [
        {
          "output_type": "stream",
          "text": [
            "Downloading data from https://raw.githubusercontent.com/ageron/handson-ml/master/datasets/housing/housing.csv\n",
            "1425408/1423529 [==============================] - 0s 0us/step\n"
          ],
          "name": "stdout"
        }
      ]
    },
    {
      "cell_type": "code",
      "metadata": {
        "id": "EXcDlT9tsa9k"
      },
      "source": [
        "housing_file_path = pd.read_csv(DOWNLOAD_ROOT + 'datasets/housing/housing.csv')"
      ],
      "execution_count": null,
      "outputs": []
    },
    {
      "cell_type": "markdown",
      "metadata": {
        "id": "5-iUtHr549QY"
      },
      "source": [
        "# Preprocessing"
      ]
    },
    {
      "cell_type": "markdown",
      "metadata": {
        "id": "s6bD31uv6A9V"
      },
      "source": [
        "## Preprocessing standard datasets"
      ]
    },
    {
      "cell_type": "markdown",
      "metadata": {
        "id": "Kf_Xp8Ah6A6f"
      },
      "source": [
        "### Standarization"
      ]
    },
    {
      "cell_type": "code",
      "metadata": {
        "id": "SjuKNylyHk1E"
      },
      "source": [
        "train = pd.read_csv('/content/sample_data/california_housing_train.csv')\n",
        "X_train, y_train = train.drop(columns=['median_house_value']).to_numpy(), train['median_house_value'].to_numpy()\n",
        "train_dataset = tf.data.Dataset.from_tensor_slices((X_train, y_train))"
      ],
      "execution_count": 120,
      "outputs": []
    },
    {
      "cell_type": "code",
      "metadata": {
        "id": "9f8djn6C12AB"
      },
      "source": [
        "means = np.mean(X_train, axis=0, keepdims=True)\n",
        "stds = np.std(X_train, axis=0, keepdims=True)\n",
        "eps = keras.backend.epsilon()"
      ],
      "execution_count": 129,
      "outputs": []
    },
    {
      "cell_type": "markdown",
      "metadata": {
        "id": "7FY7dPbNEtUG"
      },
      "source": [
        "#### Method 1\n",
        "Normalization calculated in 1st layer explicitdly\n",
        "\n"
      ]
    },
    {
      "cell_type": "code",
      "metadata": {
        "id": "WnVhZHAoHlfu"
      },
      "source": [
        "model = keras.models.Sequential([\n",
        "                                 keras.layers.Lambda(lambda x: (x - mean)/(stds + 1)),\n",
        "                                 keras.layers.Dense(10, activation='relu'),\n",
        "                                 keras.layers.Dense(1, activation='relu')\n",
        "])"
      ],
      "execution_count": 133,
      "outputs": []
    },
    {
      "cell_type": "markdown",
      "metadata": {
        "id": "kXi-H0wQEv27"
      },
      "source": [
        "#### Method 2\n",
        "Build a class by inheriting from layer class"
      ]
    },
    {
      "cell_type": "code",
      "metadata": {
        "id": "uprANdkm5I3o"
      },
      "source": [
        "class Standarization(keras.layers.Layer):\n",
        "  def adapt(self, data_sample):\n",
        "    self.means_ = np.mean(data_sample, axis=0, keepdims=True)\n",
        "    self.stds_ = np.std(data_sample, axis=0, keepdims=True)\n",
        "\n",
        "  def call(self, inputs):\n",
        "    return (inputs - self.means_) / (self.stds_ + keras.backend.epsilon())"
      ],
      "execution_count": 134,
      "outputs": []
    },
    {
      "cell_type": "code",
      "metadata": {
        "id": "tGH4rjI25xIS"
      },
      "source": [
        "std_layer = Standarization() \n",
        "std_layer.adapt(X_train[:1000, :])"
      ],
      "execution_count": 137,
      "outputs": []
    },
    {
      "cell_type": "code",
      "metadata": {
        "id": "u69JOQgB6IrW"
      },
      "source": [
        "model = keras.models.Sequential([\n",
        "                                 std_layer,\n",
        "                                 keras.layers.Dense(10, activation='relu'),\n",
        "                                 keras.layers.Dense(1, activation='relu')\n",
        "])"
      ],
      "execution_count": 138,
      "outputs": []
    },
    {
      "cell_type": "markdown",
      "metadata": {
        "id": "w_byVig76na7"
      },
      "source": [
        "#### Method3\n",
        "Use TF **Transform**"
      ]
    },
    {
      "cell_type": "code",
      "metadata": {
        "id": "8lAJx11o7FTt"
      },
      "source": [
        "!pip install tensorflow_transform"
      ],
      "execution_count": null,
      "outputs": []
    },
    {
      "cell_type": "code",
      "metadata": {
        "id": "RuH6XnQy6tYh"
      },
      "source": [
        "import tensorflow_transform as tft"
      ],
      "execution_count": 141,
      "outputs": []
    },
    {
      "cell_type": "code",
      "metadata": {
        "id": "OIAlDK567drY"
      },
      "source": [
        "def preprocess(inputs):\n",
        "  median_age = inputs['housing_median_age']\n",
        "  standarized_age = tft.scale_to_z_score(median_age)\n",
        "\n",
        "  return {'standarized_medium_age': standarized_age}"
      ],
      "execution_count": 142,
      "outputs": []
    },
    {
      "cell_type": "markdown",
      "metadata": {
        "id": "gX5IJV779SIP"
      },
      "source": [
        "### Categorical variables encoding"
      ]
    },
    {
      "cell_type": "code",
      "metadata": {
        "id": "zvgtYyml9XXf"
      },
      "source": [
        "#housing_file_path = tf.keras.utils.get_file(\"housing.csv\", DOWNLOAD_ROOT + 'datasets/housing/housing.csv')"
      ],
      "execution_count": 159,
      "outputs": []
    },
    {
      "cell_type": "code",
      "metadata": {
        "id": "_ZofyIowCNip"
      },
      "source": [
        "housing_file_path = 'https://raw.githubusercontent.com/ageron/handson-ml/master/datasets/housing/housing.csv'\n",
        "housing_df = pd.read_csv(housing_file_path)\n",
        "X_train_regular = housing_df.drop(columns=['median_house_value', 'ocean_proximity']).to_numpy()\n",
        "X_train_categorical = housing_df['ocean_proximity'].to_numpy()\n",
        "y_train = housing_df['median_house_value'].to_numpy()\n",
        "#train_dataset = tf.data.Dataset.from_tensor_slices((X_train, y_train))\n",
        "\n",
        "means = np.mean(X_train_regular, axis=0, keepdims=True)\n",
        "stds = np.std(X_train_regular, axis=0, keepdims=True)\n",
        "eps = keras.backend.epsilon()"
      ],
      "execution_count": 19,
      "outputs": []
    },
    {
      "cell_type": "code",
      "metadata": {
        "id": "LRCXcvpUCpur"
      },
      "source": [
        "# Not using\n",
        "# X_train, y_train =  housing_df['ocean_proximity'].to_numpy(), housing_df['median_house_value'].to_numpy()\n",
        "# train_dataset = tf.data.Dataset.from_tensor_slices((X_train, y_train))\n",
        "# for item in train_dataset.take(5):\n",
        "#   print(item[0].numpy())"
      ],
      "execution_count": 24,
      "outputs": []
    },
    {
      "cell_type": "code",
      "metadata": {
        "id": "jndJX56M86Qr"
      },
      "source": [
        "NUM_OOV_BUCKETS = 2\n",
        "VOCAB = ['NEAR BAY', '<1H OCEAN', 'INLAND', 'NEAR OCEAN', 'ISLAND']\n",
        "\n",
        "indices = tf.range(len(VOCAB), dtype=tf.int64)\n",
        "table_init = tf.lookup.KeyValueTensorInitializer(VOCAB, indices)\n",
        "table = tf.lookup.StaticVocabularyTable(table_init, NUM_OOV_BUCKETS)"
      ],
      "execution_count": 172,
      "outputs": []
    },
    {
      "cell_type": "markdown",
      "metadata": {
        "id": "B3GVCB-Z8M57"
      },
      "source": [
        "#### One - hot Encoding"
      ]
    },
    {
      "cell_type": "code",
      "metadata": {
        "colab": {
          "base_uri": "https://localhost:8080/"
        },
        "id": "cij2aPg5_BCC",
        "outputId": "3717655c-0cf3-484c-84c9-657a729130cb"
      },
      "source": [
        "categories = tf.constant(['NEAR OCEAN', 'ISLAND', '<1H OCEAN', 'DESERT', 'MOUNTAINS'])\n",
        "cat_indices = table.lookup(categories)\n",
        "cat_one_hot = tf.one_hot(cat_indices, depth=len(vocab) + num_oov_buckets)\n",
        "cat_one_hot"
      ],
      "execution_count": 177,
      "outputs": [
        {
          "output_type": "execute_result",
          "data": {
            "text/plain": [
              "<tf.Tensor: shape=(5, 10), dtype=float32, numpy=\n",
              "array([[0., 0., 0., 1., 0., 0., 0., 0., 0., 0.],\n",
              "       [0., 0., 0., 0., 1., 0., 0., 0., 0., 0.],\n",
              "       [0., 1., 0., 0., 0., 0., 0., 0., 0., 0.],\n",
              "       [0., 0., 0., 0., 0., 0., 1., 0., 0., 0.],\n",
              "       [0., 0., 0., 0., 0., 1., 0., 0., 0., 0.]], dtype=float32)>"
            ]
          },
          "metadata": {
            "tags": []
          },
          "execution_count": 177
        }
      ]
    },
    {
      "cell_type": "markdown",
      "metadata": {
        "id": "LtqYLMQq8Ust"
      },
      "source": [
        "#### Embedding Encoding"
      ]
    },
    {
      "cell_type": "code",
      "metadata": {
        "colab": {
          "base_uri": "https://localhost:8080/"
        },
        "id": "hBCJdYOPa5LM",
        "outputId": "e347d2d3-8a74-4537-d2f1-6a07b2fd9c01"
      },
      "source": [
        "# sample implementaion\n",
        "cat_sample = tf.constant(['NEAR OCEAN', 'ISLAND', '<1H OCEAN', 'DESERT', 'MOUNTAINS'])\n",
        "cat_indices = table.lookup(cat_sample)"
      ],
      "execution_count": 190,
      "outputs": [
        {
          "output_type": "execute_result",
          "data": {
            "text/plain": [
              "<tf.Tensor: shape=(5,), dtype=int64, numpy=array([3, 4, 1, 7, 6])>"
            ]
          },
          "metadata": {
            "tags": []
          },
          "execution_count": 190
        }
      ]
    },
    {
      "cell_type": "code",
      "metadata": {
        "colab": {
          "base_uri": "https://localhost:8080/"
        },
        "id": "040nyhIF9dtj",
        "outputId": "89315c07-6c3c-4ad3-b0ba-c8cfc1c7f540"
      },
      "source": [
        "# Direct implementation\n",
        "EMBEDDING_DIM = 3\n",
        "embed_init = tf.random.uniform([len(VOCAB) + NUM_OOV_BUCKETS, EMBEDDING_DIM])\n",
        "embed_matrix = tf.Variable(embed_init)\n",
        "tf.nn.embedding_lookup(embed_matrix, cat_indices)"
      ],
      "execution_count": 185,
      "outputs": [
        {
          "output_type": "execute_result",
          "data": {
            "text/plain": [
              "<tf.Tensor: shape=(5, 3), dtype=float32, numpy=\n",
              "array([[0.47693503, 0.2651428 , 0.4181112 ],\n",
              "       [0.69873154, 0.95583725, 0.33024645],\n",
              "       [0.8526927 , 0.02772093, 0.7051302 ],\n",
              "       [0.27623856, 0.61830723, 0.1851877 ],\n",
              "       [0.42858732, 0.46090114, 0.8286818 ]], dtype=float32)>"
            ]
          },
          "metadata": {
            "tags": []
          },
          "execution_count": 185
        }
      ]
    },
    {
      "cell_type": "code",
      "metadata": {
        "colab": {
          "base_uri": "https://localhost:8080/"
        },
        "id": "eiK2IekXNVXU",
        "outputId": "1fd4bf00-ca73-4ae4-c45f-efb2e76e7209"
      },
      "source": [
        "# Implementaion as layer\n",
        "EMBEDDING_DIM = 3\n",
        "embedding = keras.layers.Embedding(input_dim=len(VOCAB) + NUM_OOV_BUCKETS, output_dim=EMBEDDING_DIM)\n",
        "embedding(cat_indices)"
      ],
      "execution_count": 188,
      "outputs": [
        {
          "output_type": "execute_result",
          "data": {
            "text/plain": [
              "<tf.Tensor: shape=(5, 3), dtype=float32, numpy=\n",
              "array([[ 5.62295318e-05, -4.32376638e-02,  1.54911354e-03],\n",
              "       [ 3.33996080e-02,  1.46732070e-02,  3.97942215e-03],\n",
              "       [-4.35736552e-02, -1.65988430e-02,  4.20908444e-02],\n",
              "       [ 2.73887850e-02, -2.16671582e-02, -1.03085525e-02],\n",
              "       [ 2.54554488e-02,  1.36323683e-02,  2.85611860e-02]], dtype=float32)>"
            ]
          },
          "metadata": {
            "tags": []
          },
          "execution_count": 188
        }
      ]
    },
    {
      "cell_type": "code",
      "metadata": {
        "id": "ZiZPYsdKpYq3"
      },
      "source": [
        "# Book implementation\n",
        "regular_input = keras.layers.Input(shape=[8])\n",
        "categorical_input = keras.layers.Input(shape=[], dtype=tf.string)\n",
        "cat_indices = keras.layers.Lambda(lambda cats: table.lookup(cats))(categorical_input)\n",
        "cat_embed = keras.layers.Embedding(input_dim=len(VOCAB) + NUM_OOV_BUCKETS, output_dim=2)(cat_indices)\n",
        "concat_inputs = keras.layers.concatenate([regular_input, cat_embed])\n",
        "outputs = keras.layers.Dense(1)(concat_inputs)\n",
        "\n",
        "model = keras.models.Model(inputs=[regular_input, categorical_input],\n",
        "                           outputs=[outputs])\n",
        "\n",
        "model.compile(optimizer='adam', loss='mean_squared_error', metrics=keras.metrics.RootMeanSquaredError())\n",
        "\n",
        "#history = model.fit((X_train_regular, X_train_categorical), y_train, batch_size=32, epochs=10, validation_split=0.1, use_multiprocessing=True)"
      ],
      "execution_count": null,
      "outputs": []
    },
    {
      "cell_type": "code",
      "metadata": {
        "id": "gqZnwEhIRrG9"
      },
      "source": [
        "# Full implementation\n",
        "\n",
        "regular_input = keras.layers.Input(shape=[8])\n",
        "standarized = keras.layers.Lambda(lambda x: (x - means)/(stds + eps))(regular_input)\n",
        "categorical_input = keras.layers.Input(shape=[], dtype=tf.string)\n",
        "cat_indices = keras.layers.Lambda(lambda cats: table.lookup(cats))(categorical_input)\n",
        "cat_embed = keras.layers.Embedding(input_dim=len(VOCAB) + NUM_OOV_BUCKETS, output_dim=2)(cat_indices)\n",
        "concat_inputs = keras.layers.concatenate([standarized, cat_embed])\n",
        "Dense1 = keras.layers.Dense(10, 'relu')(concat_inputs)\n",
        "outputs = keras.layers.Dense(1, 'relu')(Dense1)\n",
        "\n",
        "model = keras.models.Model(inputs=[regular_input, categorical_input],\n",
        "                           outputs=[outputs])\n",
        "\n",
        "model.compile(optimizer='adam', loss='mean_squared_error', metrics=keras.metrics.RootMeanSquaredError())"
      ],
      "execution_count": 22,
      "outputs": []
    },
    {
      "cell_type": "code",
      "metadata": {
        "colab": {
          "base_uri": "https://localhost:8080/"
        },
        "id": "pb_FUL3GcMrq",
        "outputId": "4c7548ad-e88f-4f89-d963-1832d7457df0"
      },
      "source": [
        "history = model.fit((X_train_regular, X_train_categorical), y_train, batch_size=32, epochs=10, validation_split=0.1, use_multiprocessing=True)"
      ],
      "execution_count": 23,
      "outputs": [
        {
          "output_type": "stream",
          "text": [
            "Epoch 1/10\n",
            "581/581 [==============================] - 1s 1ms/step - loss: nan - root_mean_squared_error: nan - val_loss: nan - val_root_mean_squared_error: nan\n",
            "Epoch 2/10\n",
            "581/581 [==============================] - 1s 1ms/step - loss: nan - root_mean_squared_error: nan - val_loss: nan - val_root_mean_squared_error: nan\n",
            "Epoch 3/10\n",
            "581/581 [==============================] - 1s 1ms/step - loss: nan - root_mean_squared_error: nan - val_loss: nan - val_root_mean_squared_error: nan\n",
            "Epoch 4/10\n",
            "581/581 [==============================] - 1s 1ms/step - loss: nan - root_mean_squared_error: nan - val_loss: nan - val_root_mean_squared_error: nan\n",
            "Epoch 5/10\n",
            "581/581 [==============================] - 1s 1ms/step - loss: nan - root_mean_squared_error: nan - val_loss: nan - val_root_mean_squared_error: nan\n",
            "Epoch 6/10\n",
            "581/581 [==============================] - 1s 1ms/step - loss: nan - root_mean_squared_error: nan - val_loss: nan - val_root_mean_squared_error: nan\n",
            "Epoch 7/10\n",
            "581/581 [==============================] - 1s 1ms/step - loss: nan - root_mean_squared_error: nan - val_loss: nan - val_root_mean_squared_error: nan\n",
            "Epoch 8/10\n",
            "581/581 [==============================] - 1s 1ms/step - loss: nan - root_mean_squared_error: nan - val_loss: nan - val_root_mean_squared_error: nan\n",
            "Epoch 9/10\n",
            "581/581 [==============================] - 1s 1ms/step - loss: nan - root_mean_squared_error: nan - val_loss: nan - val_root_mean_squared_error: nan\n",
            "Epoch 10/10\n",
            "581/581 [==============================] - 1s 1ms/step - loss: nan - root_mean_squared_error: nan - val_loss: nan - val_root_mean_squared_error: nan\n"
          ],
          "name": "stdout"
        }
      ]
    },
    {
      "cell_type": "markdown",
      "metadata": {
        "id": "5GhBh_VL9eLx"
      },
      "source": [
        "## Preprocessing pictures"
      ]
    },
    {
      "cell_type": "markdown",
      "metadata": {
        "id": "gBJctxxT9kTW"
      },
      "source": [
        "## Preprocessing Text"
      ]
    },
    {
      "cell_type": "markdown",
      "metadata": {
        "id": "JixB139J6Aob"
      },
      "source": [
        "## TF Transform"
      ]
    }
  ]
}